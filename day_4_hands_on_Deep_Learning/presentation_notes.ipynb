{
 "cells": [
  {
   "cell_type": "markdown",
   "id": "0f6f0de6",
   "metadata": {},
   "source": [
    "algoritmul k-neareset neighbors,\n",
    "de exemplu am doua axe cu melodii, si vreau sa impart melodiile care ii plac unei persoane si cele care nu ii plac\n",
    "\n",
    "\n",
    "- AI ( ML ( Deep Learning ))\n",
    "- cand nu mai putem sa tragem caracteristici liniare si avem nevoie sa curbam linii pentru a ne alege datele, ne ducem la un algoritm mai complicat\n",
    "- statistica e baza multor algoritmi de masini learning (modele de regresie si chestii de genul)\n",
    "\n"
   ]
  },
  {
   "cell_type": "markdown",
   "id": "cdbb3cb8",
   "metadata": {},
   "source": []
  }
 ],
 "metadata": {
  "language_info": {
   "name": "python"
  }
 },
 "nbformat": 4,
 "nbformat_minor": 5
}
