{
  "cells": [
    {
      "cell_type": "markdown",
      "metadata": {
        "colab_type": "text",
        "id": "view-in-github"
      },
      "source": [
        "<a href=\"https://colab.research.google.com/github/gabitza-tech/ETTI-SummerSchool2025/blob/main/Students_MachineLearning_Intro_ImbalancedClasses.ipynb\" target=\"_parent\"><img src=\"https://colab.research.google.com/assets/colab-badge.svg\" alt=\"Open In Colab\"/></a>"
      ]
    },
    {
      "cell_type": "markdown",
      "metadata": {
        "id": "RshKOmGOY0qJ"
      },
      "source": [
        "# 🧠 Imbalanced Dataset Example - Binary Classification\n",
        "\n",
        "In the real world, data is rarely **clean** or **perfectly balanced**.  \n",
        "Some of the common challenges we face include:  \n",
        "\n",
        "- ⚖️ **Imbalanced classes** — certain outcomes are much rarer than others.  \n",
        "- ❓ **Missing values** — incomplete information across different attributes.  \n",
        "- 🌍 **Domain shifts** — differences between training and test data distributions.  \n",
        "\n",
        "---\n",
        "To illustrate how to handle imbalanced data in Python, let’s explore the **Bank Marketing Dataset**. This publicly available dataset contains information about bank customers, with the target variable indicating whether a client subscribed to a term deposit after receiving a marketing call (“yes” vs. “no”)."
      ]
    },
    {
      "cell_type": "code",
      "execution_count": 42,
      "metadata": {
        "id": "utOCgZaZkD0J"
      },
      "outputs": [
        {
          "name": "stdout",
          "output_type": "stream",
          "text": [
            "Requirement already satisfied: ucimlrepo in c:\\users\\vasid\\appdata\\local\\programs\\python\\python313\\lib\\site-packages (0.0.7)\n",
            "Requirement already satisfied: pandas>=1.0.0 in c:\\users\\vasid\\appdata\\local\\programs\\python\\python313\\lib\\site-packages (from ucimlrepo) (2.3.2)\n",
            "Requirement already satisfied: certifi>=2020.12.5 in c:\\users\\vasid\\appdata\\local\\programs\\python\\python313\\lib\\site-packages (from ucimlrepo) (2025.8.3)\n",
            "Requirement already satisfied: numpy>=1.26.0 in c:\\users\\vasid\\appdata\\local\\programs\\python\\python313\\lib\\site-packages (from pandas>=1.0.0->ucimlrepo) (2.2.6)\n",
            "Requirement already satisfied: python-dateutil>=2.8.2 in c:\\users\\vasid\\appdata\\local\\programs\\python\\python313\\lib\\site-packages (from pandas>=1.0.0->ucimlrepo) (2.9.0.post0)\n",
            "Requirement already satisfied: pytz>=2020.1 in c:\\users\\vasid\\appdata\\local\\programs\\python\\python313\\lib\\site-packages (from pandas>=1.0.0->ucimlrepo) (2025.2)\n",
            "Requirement already satisfied: tzdata>=2022.7 in c:\\users\\vasid\\appdata\\local\\programs\\python\\python313\\lib\\site-packages (from pandas>=1.0.0->ucimlrepo) (2025.2)\n",
            "Requirement already satisfied: six>=1.5 in c:\\users\\vasid\\appdata\\local\\programs\\python\\python313\\lib\\site-packages (from python-dateutil>=2.8.2->pandas>=1.0.0->ucimlrepo) (1.17.0)\n"
          ]
        }
      ],
      "source": [
        "# We need to install this library in order to fetch the dataset we need\n",
        "!pip install ucimlrepo"
      ]
    },
    {
      "cell_type": "code",
      "execution_count": 43,
      "metadata": {
        "id": "v139mCCviQYC"
      },
      "outputs": [
        {
          "name": "stdout",
          "output_type": "stream",
          "text": [
            "{'uci_id': 222, 'name': 'Bank Marketing', 'repository_url': 'https://archive.ics.uci.edu/dataset/222/bank+marketing', 'data_url': 'https://archive.ics.uci.edu/static/public/222/data.csv', 'abstract': 'The data is related with direct marketing campaigns (phone calls) of a Portuguese banking institution. The classification goal is to predict if the client will subscribe a term deposit (variable y).', 'area': 'Business', 'tasks': ['Classification'], 'characteristics': ['Multivariate'], 'num_instances': 45211, 'num_features': 16, 'feature_types': ['Categorical', 'Integer'], 'demographics': ['Age', 'Occupation', 'Marital Status', 'Education Level'], 'target_col': ['y'], 'index_col': None, 'has_missing_values': 'yes', 'missing_values_symbol': 'NaN', 'year_of_dataset_creation': 2014, 'last_updated': 'Fri Aug 18 2023', 'dataset_doi': '10.24432/C5K306', 'creators': ['S. Moro', 'P. Rita', 'P. Cortez'], 'intro_paper': {'ID': 277, 'type': 'NATIVE', 'title': 'A data-driven approach to predict the success of bank telemarketing', 'authors': 'Sérgio Moro, P. Cortez, P. Rita', 'venue': 'Decision Support Systems', 'year': 2014, 'journal': None, 'DOI': '10.1016/j.dss.2014.03.001', 'URL': 'https://www.semanticscholar.org/paper/cab86052882d126d43f72108c6cb41b295cc8a9e', 'sha': None, 'corpus': None, 'arxiv': None, 'mag': None, 'acl': None, 'pmid': None, 'pmcid': None}, 'additional_info': {'summary': \"The data is related with direct marketing campaigns of a Portuguese banking institution. The marketing campaigns were based on phone calls. Often, more than one contact to the same client was required, in order to access if the product (bank term deposit) would be ('yes') or not ('no') subscribed. \\n\\nThere are four datasets: \\n1) bank-additional-full.csv with all examples (41188) and 20 inputs, ordered by date (from May 2008 to November 2010), very close to the data analyzed in [Moro et al., 2014]\\n2) bank-additional.csv with 10% of the examples (4119), randomly selected from 1), and 20 inputs.\\n3) bank-full.csv with all examples and 17 inputs, ordered by date (older version of this dataset with less inputs). \\n4) bank.csv with 10% of the examples and 17 inputs, randomly selected from 3 (older version of this dataset with less inputs). \\nThe smallest datasets are provided to test more computationally demanding machine learning algorithms (e.g., SVM). \\n\\nThe classification goal is to predict if the client will subscribe (yes/no) a term deposit (variable y).\", 'purpose': None, 'funded_by': None, 'instances_represent': None, 'recommended_data_splits': None, 'sensitive_data': None, 'preprocessing_description': None, 'variable_info': 'Input variables:\\n   # bank client data:\\n   1 - age (numeric)\\n   2 - job : type of job (categorical: \"admin.\",\"unknown\",\"unemployed\",\"management\",\"housemaid\",\"entrepreneur\",\"student\",\\n                                       \"blue-collar\",\"self-employed\",\"retired\",\"technician\",\"services\") \\n   3 - marital : marital status (categorical: \"married\",\"divorced\",\"single\"; note: \"divorced\" means divorced or widowed)\\n   4 - education (categorical: \"unknown\",\"secondary\",\"primary\",\"tertiary\")\\n   5 - default: has credit in default? (binary: \"yes\",\"no\")\\n   6 - balance: average yearly balance, in euros (numeric) \\n   7 - housing: has housing loan? (binary: \"yes\",\"no\")\\n   8 - loan: has personal loan? (binary: \"yes\",\"no\")\\n   # related with the last contact of the current campaign:\\n   9 - contact: contact communication type (categorical: \"unknown\",\"telephone\",\"cellular\") \\n  10 - day: last contact day of the month (numeric)\\n  11 - month: last contact month of year (categorical: \"jan\", \"feb\", \"mar\", ..., \"nov\", \"dec\")\\n  12 - duration: last contact duration, in seconds (numeric)\\n   # other attributes:\\n  13 - campaign: number of contacts performed during this campaign and for this client (numeric, includes last contact)\\n  14 - pdays: number of days that passed by after the client was last contacted from a previous campaign (numeric, -1 means client was not previously contacted)\\n  15 - previous: number of contacts performed before this campaign and for this client (numeric)\\n  16 - poutcome: outcome of the previous marketing campaign (categorical: \"unknown\",\"other\",\"failure\",\"success\")\\n\\n  Output variable (desired target):\\n  17 - y - has the client subscribed a term deposit? (binary: \"yes\",\"no\")\\n', 'citation': None}}\n",
            "           name     role         type      demographic  \\\n",
            "0           age  Feature      Integer              Age   \n",
            "1           job  Feature  Categorical       Occupation   \n",
            "2       marital  Feature  Categorical   Marital Status   \n",
            "3     education  Feature  Categorical  Education Level   \n",
            "4       default  Feature       Binary             None   \n",
            "5       balance  Feature      Integer             None   \n",
            "6       housing  Feature       Binary             None   \n",
            "7          loan  Feature       Binary             None   \n",
            "8       contact  Feature  Categorical             None   \n",
            "9   day_of_week  Feature         Date             None   \n",
            "10        month  Feature         Date             None   \n",
            "11     duration  Feature      Integer             None   \n",
            "12     campaign  Feature      Integer             None   \n",
            "13        pdays  Feature      Integer             None   \n",
            "14     previous  Feature      Integer             None   \n",
            "15     poutcome  Feature  Categorical             None   \n",
            "16            y   Target       Binary             None   \n",
            "\n",
            "                                          description  units missing_values  \n",
            "0                                                None   None             no  \n",
            "1   type of job (categorical: 'admin.','blue-colla...   None             no  \n",
            "2   marital status (categorical: 'divorced','marri...   None             no  \n",
            "3   (categorical: 'basic.4y','basic.6y','basic.9y'...   None             no  \n",
            "4                              has credit in default?   None             no  \n",
            "5                              average yearly balance  euros             no  \n",
            "6                                   has housing loan?   None             no  \n",
            "7                                  has personal loan?   None             no  \n",
            "8   contact communication type (categorical: 'cell...   None            yes  \n",
            "9                        last contact day of the week   None             no  \n",
            "10  last contact month of year (categorical: 'jan'...   None             no  \n",
            "11   last contact duration, in seconds (numeric). ...   None             no  \n",
            "12  number of contacts performed during this campa...   None             no  \n",
            "13  number of days that passed by after the client...   None            yes  \n",
            "14  number of contacts performed before this campa...   None             no  \n",
            "15  outcome of the previous marketing campaign (ca...   None            yes  \n",
            "16          has the client subscribed a term deposit?   None             no  \n"
          ]
        }
      ],
      "source": [
        "# This dataset has a similar format in the end to the previous one from scikit-learn.\n",
        "from ucimlrepo import fetch_ucirepo\n",
        "import pandas as pd\n",
        "\n",
        "bank_marketing = fetch_ucirepo(id=222)\n",
        "\n",
        "# Separate the target labels from the rest of the features\n",
        "x = bank_marketing.data.features\n",
        "y = bank_marketing.data.targets\n",
        "\n",
        "# Show some dataset metadata\n",
        "print(bank_marketing.metadata)\n",
        "print(bank_marketing.variables)\n"
      ]
    },
    {
      "cell_type": "markdown",
      "metadata": {
        "id": "Qr6hCAw1dpDD"
      },
      "source": [
        "# Exercise 1\n",
        "\n",
        "### Tasks\n",
        "1. Check dataset size.\n",
        "2. Check number of features.\n",
        "3. Check number of classes.\n",
        "4. Check class distribution.\n",
        "5. Check for missing data.\n"
      ]
    },
    {
      "cell_type": "code",
      "execution_count": 26,
      "metadata": {
        "id": "rDGRKd60jT6y"
      },
      "outputs": [
        {
          "name": "stdout",
          "output_type": "stream",
          "text": [
            "(45211, 16)\n",
            "(45211, 1)\n",
            "y    2\n",
            "dtype: int64\n",
            "y  \n",
            "no     39922\n",
            "yes     5289\n",
            "Name: count, dtype: int64\n",
            "age                0\n",
            "job              288\n",
            "marital            0\n",
            "education       1857\n",
            "default            0\n",
            "balance            0\n",
            "housing            0\n",
            "loan               0\n",
            "contact        13020\n",
            "day_of_week        0\n",
            "month              0\n",
            "duration           0\n",
            "campaign           0\n",
            "pdays              0\n",
            "previous           0\n",
            "poutcome       36959\n",
            "dtype: int64\n"
          ]
        }
      ],
      "source": [
        "# CODE HERE\n",
        "\n",
        "# Shape of data and number of features\n",
        "print(x.shape)\n",
        "print(y.shape)\n",
        "# Number of classes\n",
        "print(y.nunique())\n",
        "# Class Distribution\n",
        "print(y.value_counts())\n",
        "# Check for missing data\n",
        "print(x.isna().sum() )  # sau x.isna().sum().sum() for total missing values\n",
        "\n"
      ]
    },
    {
      "cell_type": "markdown",
      "metadata": {
        "id": "o7aB0qiek-3Z"
      },
      "source": [
        "# Exercise 2\n",
        "\n",
        "For most of these tasks, look at the previous exercise!\n",
        "\n",
        "### Tasks:\n",
        "\n",
        "1. Handle missing features. (can we simply drop samples?)\n",
        "2. Preprocess features categorical to numerical. - Hint: use `OneHotEncoder` or `LabelEncoder`;\n",
        "3. Split dataset in train and test sets. (70-30 split)\n",
        "4. Scale your data. - Whatever scaler you want\n",
        "4. Train a logistic regression model.\n",
        "5. How long does training take?\n",
        "5. Check accuracy.\n",
        "6. Check precision, recall and f1-score."
      ]
    },
    {
      "cell_type": "code",
      "execution_count": null,
      "metadata": {
        "id": "aGelusQDlxl5"
      },
      "outputs": [
        {
          "name": "stdout",
          "output_type": "stream",
          "text": [
            "Index(['job', 'marital', 'education', 'default', 'housing', 'loan', 'contact',\n",
            "       'month', 'poutcome'],\n",
            "      dtype='object')\n",
            "Index(['age', 'balance', 'day_of_week', 'duration', 'campaign', 'pdays',\n",
            "       'previous'],\n",
            "      dtype='object')\n",
            "data_type_x_encoded age            int64\n",
            "job            int64\n",
            "marital        int64\n",
            "education      int64\n",
            "default        int64\n",
            "balance        int64\n",
            "housing        int64\n",
            "loan           int64\n",
            "contact        int64\n",
            "day_of_week    int64\n",
            "month          int64\n",
            "duration       int64\n",
            "campaign       int64\n",
            "pdays          int64\n",
            "previous       int64\n",
            "poutcome       int64\n",
            "dtype: object\n",
            "{np.int64(0), np.int64(1)}\n",
            "   age  job  marital  education  default  balance  housing  loan  contact  \\\n",
            "0   58    4        1          2        0     2143        1     0        2   \n",
            "1   44    9        2          1        0       29        1     0        2   \n",
            "\n",
            "   day_of_week  month  duration  campaign  pdays  previous  poutcome  \n",
            "0            5      8       261         1     -1         0         3  \n",
            "1            5      8       151         1     -1         0         3  \n",
            "{np.int64(0), np.int64(1)}\n"
          ]
        },
        {
          "name": "stderr",
          "output_type": "stream",
          "text": [
            "c:\\Users\\vasid\\AppData\\Local\\Programs\\Python\\Python313\\Lib\\site-packages\\sklearn\\preprocessing\\_label.py:110: DataConversionWarning: A column-vector y was passed when a 1d array was expected. Please change the shape of y to (n_samples, ), for example using ravel().\n",
            "  y = column_or_1d(y, warn=True)\n"
          ]
        },
        {
          "name": "stdout",
          "output_type": "stream",
          "text": [
            "Train samples: 31647\n",
            "Test samples: 13564\n",
            "Test samples:        age  job  marital  education  default  balance  housing  loan  contact  \\\n",
            "0       58    4        1          2        0     2143        1     0        2   \n",
            "1       44    9        2          1        0       29        1     0        2   \n",
            "2       33    2        1          1        0        2        1     1        2   \n",
            "3       47    1        1          3        0     1506        1     0        2   \n",
            "4       33   11        2          3        0        1        0     0        2   \n",
            "...    ...  ...      ...        ...      ...      ...      ...   ...      ...   \n",
            "45206   51    9        1          2        0      825        0     0        0   \n",
            "45207   71    5        0          0        0     1729        0     0        0   \n",
            "45208   72    5        1          1        0     5715        0     0        0   \n",
            "45209   57    1        1          1        0      668        0     0        1   \n",
            "45210   37    2        1          1        0     2971        0     0        0   \n",
            "\n",
            "       day_of_week  month  duration  campaign  pdays  previous  poutcome  \n",
            "0                5      8       261         1     -1         0         3  \n",
            "1                5      8       151         1     -1         0         3  \n",
            "2                5      8        76         1     -1         0         3  \n",
            "3                5      8        92         1     -1         0         3  \n",
            "4                5      8       198         1     -1         0         3  \n",
            "...            ...    ...       ...       ...    ...       ...       ...  \n",
            "45206           17      9       977         3     -1         0         3  \n",
            "45207           17      9       456         2     -1         0         3  \n",
            "45208           17      9      1127         5    184         3         2  \n",
            "45209           17      9       508         4     -1         0         3  \n",
            "45210           17      9       361         2    188        11         1  \n",
            "\n",
            "[45211 rows x 16 columns]\n",
            "Procent_sample_pierdute: (69.99845170423127, '%')\n",
            "Procent_sample_pierdute: (30.001548295768725, '%')\n",
            "Train samples: 31647\n",
            "Test samples: 13564\n"
          ]
        }
      ],
      "source": [
        "# CODE HERE FOR MISSING DATA + FEATURE & LABEL ENCODING\n",
        "# import necessary libraries for Encoding Features and Labels\n",
        "import pandas as pd\n",
        "from sklearn.preprocessing import OneHotEncoder\n",
        "from sklearn.preprocessing import LabelEncoder\n",
        "\n",
        "# Numerically encode features based on the number of unique values\n",
        "le = LabelEncoder()\n",
        "\n",
        "# Separate categorical and numeric columns\n",
        "cat_cols = x.select_dtypes(include=[\"object\", \"category\"]).columns\n",
        "num_cols = x.select_dtypes(include=[\"int64\", \"float64\"]).columns\n",
        "\n",
        "print(cat_cols)\n",
        "print(num_cols)\n",
        "# 1. Label Encoder - Individual numerical values for each categorical value in a feature\n",
        "x_encoded = x.copy()\n",
        "for col in cat_cols:\n",
        "  x_encoded[col] = le.fit_transform(x[col])\n",
        "\n",
        "# x_encoded has the same structure as x, but with categorical columns having numerical values now\n",
        "x_encoded.head()\n",
        "\n",
        "print(\"data_type_x_encoded\",x_encoded.dtypes)\n",
        "# For labels, we can simply transform them in numerical values in the case of binary classification\n",
        "y_encoded = le.fit_transform(y)\n",
        "print(set(y_encoded))\n",
        "\n",
        "# Save encoded features and labels in variables x_encoded and y_encoded\n",
        "print(x_encoded[:2])\n",
        "print(set(y_encoded))\n",
        "\n",
        "from sklearn.model_selection import train_test_split\n",
        "import numpy as np\n",
        "\n",
        "# Complete the function - search it\n",
        "x_train, x_test, y_train, y_test = train_test_split(x_encoded, y_encoded, test_size=0.3,train_size=0.7, stratify=y_encoded, random_state=42)\n",
        "\n",
        "# CODE HERE - STUDENTS\n",
        "# No samples\n",
        "\n",
        "# See if train-test balanced\n",
        "print(\"Train samples:\", x_train.shape[0])\n",
        "print(\"Test samples:\", x_test.shape[0]) \n",
        "print(\"Test samples:\", x_encoded) \n",
        "print(\"Procent_sample_pierdute:\" ,((y_train.shape[0]/y_encoded.shape[0] * 100),\"%\"))\n",
        "print(\"Procent_sample_pierdute:\" ,((y_test.shape[0]/y_encoded.shape[0] * 100),\"%\"))\n",
        "\n",
        "print(\"Train samples:\", y_train.shape[0])\n",
        "print(\"Test samples:\", y_test.shape[0]) \n",
        "\n",
        "\n",
        "\n"
      ]
    },
    {
      "cell_type": "code",
      "execution_count": 64,
      "metadata": {
        "id": "t-hQ2hwvmvYJ"
      },
      "outputs": [
        {
          "name": "stdout",
          "output_type": "stream",
          "text": [
            "\n",
            "Logistic Regression Classification Report:\n",
            "               precision    recall  f1-score   support\n",
            "\n",
            "           0       0.90      0.98      0.94     11977\n",
            "           1       0.60      0.22      0.32      1587\n",
            "\n",
            "    accuracy                           0.89     13564\n",
            "   macro avg       0.75      0.60      0.63     13564\n",
            "weighted avg       0.87      0.89      0.87     13564\n",
            "\n",
            "\n",
            "Logistic Regression Classification Report:\n",
            "               precision    recall  f1-score   support\n",
            "\n",
            "           0       0.90      0.98      0.94     11977\n",
            "           1       0.60      0.22      0.32      1587\n",
            "\n",
            "    accuracy                           0.89     13564\n",
            "   macro avg       0.75      0.60      0.63     13564\n",
            "weighted avg       0.87      0.89      0.87     13564\n",
            "\n",
            "accuracy: 0.8911825420230021\n",
            "f1 0.6297148396865174\n",
            "precision: 0.7501030483559148\n",
            "recall: 0.5989269287874223\n"
          ]
        }
      ],
      "source": [
        "# CODE HERE FOR TRAINING a Logistic Regression Model\n",
        "# Necessary imports for training model + evaluation metrics like the report, accuracy score, f1-score\n",
        "# --- Train Logistic Regression StandardScaler---\n",
        "from sklearn.preprocessing import StandardScaler\n",
        "from sklearn.linear_model import LogisticRegression\n",
        "from sklearn.metrics import classification_report, accuracy_score, f1_score\n",
        "scaler_std = StandardScaler()\n",
        "X_train_std = scaler_std.fit_transform(x_train)\n",
        "X_test_std = scaler_std.transform(x_test)\n",
        "\n",
        "\n",
        "clf = LogisticRegression(max_iter=100000)\n",
        "clf.fit(X_train_std, y_train)\n",
        "\n",
        "# --- Make predictions ---# \n",
        "y_pred = clf.predict(X_test_std)\n",
        "print(\"\\nLogistic Regression Classification Report:\\n\", classification_report(y_test, y_pred))\n",
        "\n",
        "\n",
        "from sklearn.metrics import classification_report, accuracy_score, f1_score, precision_score, recall_score\n",
        "\n",
        "# --- Make predictions ---# \n",
        "y_pred = clf.predict(X_test_std)\n",
        "\n",
        "print(\"\\nLogistic Regression Classification Report:\\n\", classification_report(y_test, y_pred))\n",
        "\n",
        "acc = accuracy_score(y_test, y_pred) \n",
        "f1 = f1_score(y_test, y_pred, average='macro')\n",
        "precision = precision_score(y_test, y_pred, average='macro')\n",
        "recall = recall_score(y_test, y_pred, average='macro')\n",
        "\n",
        "print(\"accuracy:\", acc)\n",
        "print(\"f1\", f1)\n",
        "print(\"precision:\", precision)\n",
        "print(\"recall:\", recall)"
      ]
    },
    {
      "cell_type": "markdown",
      "metadata": {
        "id": "d2gFzlk5nrMK"
      },
      "source": [
        "# Let's plot a confusion matrix\n",
        "\n",
        "Using a combination of scikit-learn, seaborn and matplotlib. Let's first show you how you can do that."
      ]
    },
    {
      "cell_type": "code",
      "execution_count": 65,
      "metadata": {
        "id": "eJT8Wg1hnvqR"
      },
      "outputs": [
        {
          "data": {
            "image/png": "[encoded data removed]",
            "text/plain": [
              "<Figure size 600x500 with 2 Axes>"
            ]
          },
          "metadata": {},
          "output_type": "display_data"
        }
      ],
      "source": [
        "import matplotlib.pyplot as plt\n",
        "import seaborn as sns\n",
        "from sklearn.metrics import confusion_matrix\n",
        "\n",
        "# Compute confusion matrix\n",
        "cm = confusion_matrix( y_pred= y_pred, y_true= y_test) # YOU HAVE TO FILL THIS PART ;)\n",
        "\n",
        "# Plot using seaborn heatmap\n",
        "plt.figure(figsize=(6,5))\n",
        "sns.heatmap(cm, annot=True, fmt='d', cmap='Blues', xticklabels=['No', 'Yes'], yticklabels=['No', 'Yes'])\n",
        "plt.xlabel('Predicted')\n",
        "plt.ylabel('Actual')\n",
        "plt.title('Confusion Matrix')\n",
        "plt.show()\n"
      ]
    },
    {
      "cell_type": "markdown",
      "metadata": {
        "id": "ovqjocTSoeLR"
      },
      "source": [
        "# Dataset Imbalance Techniques\n"
      ]
    },
    {
      "cell_type": "markdown",
      "metadata": {
        "id": "m7zTLfZo3Eyx"
      },
      "source": [
        "# 1. Random Undersampling\n",
        "\n",
        "Taking in consideration that one class has a **majority**, what we can do as a very simple technique is to simply **remove randomly** from that class until we obtain an equal number of samples in both classes. - we are **REMOVING** training data on purpose, in order to avoid **OVERFITTING** the majority class.\n",
        "\n",
        "# Exercise 3\n",
        "\n",
        "### Tasks\n",
        "\n",
        "1. What is the new number of samples for each class?\n",
        "2. How much data did we remove?\n",
        "3. Train a new logistic regression model - save predictions in `y_pred_rus`\n",
        "4. How long does training take?\n",
        "4. Evaluate the model with the new data."
      ]
    },
    {
      "cell_type": "code",
      "execution_count": 77,
      "metadata": {
        "id": "h4ZLALO7odl5"
      },
      "outputs": [
        {
          "name": "stdout",
          "output_type": "stream",
          "text": [
            "(45211, 16)\n",
            "(45211, 1)\n"
          ]
        },
        {
          "name": "stderr",
          "output_type": "stream",
          "text": [
            "c:\\Users\\vasid\\AppData\\Local\\Programs\\Python\\Python313\\Lib\\site-packages\\sklearn\\linear_model\\_logistic.py:473: ConvergenceWarning: lbfgs failed to converge after 7000 iteration(s) (status=1):\n",
            "STOP: TOTAL NO. OF ITERATIONS REACHED LIMIT\n",
            "\n",
            "Increase the number of iterations to improve the convergence (max_iter=7000).\n",
            "You might also want to scale the data as shown in:\n",
            "    https://scikit-learn.org/stable/modules/preprocessing.html\n",
            "Please also refer to the documentation for alternative solver options:\n",
            "    https://scikit-learn.org/stable/modules/linear_model.html#logistic-regression\n",
            "  n_iter_i = _check_optimize_result(\n",
            "c:\\Users\\vasid\\AppData\\Local\\Programs\\Python\\Python313\\Lib\\site-packages\\sklearn\\utils\\validation.py:2749: UserWarning: X does not have valid feature names, but LogisticRegression was fitted with feature names\n",
            "  warnings.warn(\n"
          ]
        },
        {
          "data": {
            "image/png": "[encoded data removed]",
            "text/plain": [
              "<Figure size 600x500 with 2 Axes>"
            ]
          },
          "metadata": {},
          "output_type": "display_data"
        }
      ],
      "source": [
        "from imblearn.under_sampling import RandomUnderSampler\n",
        "\n",
        "# 1️⃣ Random Undersampling\n",
        "rus = RandomUnderSampler(random_state=42)\n",
        "X_rus, y_rus = rus.fit_resample(x_train, y_train) # New data\n",
        "print(x.shape)\n",
        "print(y.shape)\n",
        "\n",
        "# Train a logistic regression model with the new data - save your predictions in y_pred_rus\n",
        "rus_model = LogisticRegression(max_iter=7000)\n",
        "rus_model.fit(X_rus, y_rus)\n",
        "\n",
        "y_pred_rus = rus_model.predict(X_test_std)\n",
        "# --- IGNORE ---    \n",
        "# Evaluate the new model, save f1_rus, acc_rus\n",
        "\n",
        "f1 = f1_score(y_test, y_pred_rus, average='macro')\n",
        "\n",
        "\n",
        "# Compute confusion matrix\n",
        "cm = confusion_matrix( y_pred= y_pred_rus, y_true= y_test) # YOU HAVE TO FILL THIS PART ;)\n",
        "\n",
        "# Plot using seaborn heatmap\n",
        "plt.figure(figsize=(6,5))\n",
        "sns.heatmap(cm, annot=True, fmt='d', cmap='Blues', xticklabels=['No', 'Yes'], yticklabels=['No', 'Yes'])\n",
        "plt.xlabel('Predicted')\n",
        "plt.ylabel('Actual')\n",
        "plt.title('Confusion Matrix')\n",
        "plt.show()\n"
      ]
    },
    {
      "cell_type": "markdown",
      "metadata": {
        "id": "cKiDQXPLpEub"
      },
      "source": [
        "# 2. Random Oversampling\n",
        "\n",
        "Taking in consideration that one class has a **minority**, what we can do as a very simple technique is to simply **randomly repeat** samples from that class until we obtain an equal number of samples in both classes. - we are **ADDING** training data on purpose, in order to avoid **UNDERFITTING** the minority class.\n",
        "\n",
        "# Exercise 4\n",
        "\n",
        "### Tasks\n",
        "\n",
        "1. What is the new number of samples for each class?\n",
        "3. Train a new logistic regression model - save predictions in `y_pred_ros`\n",
        "4. How long does training take?\n",
        "4. Evaluate the model with the new data."
      ]
    },
    {
      "cell_type": "code",
      "execution_count": null,
      "metadata": {
        "id": "yP5TQaqopGF6"
      },
      "outputs": [],
      "source": [
        "from imblearn.over_sampling import RandomOverSampler\n",
        "\n",
        "\n",
        "# 1️⃣ Random Undersampling\n",
        "ros = RandomOverSampler(random_state=42)\n",
        "X_ros, y_ros = ros.fit_resample(x_train, y_train)\n",
        "\n",
        "# Write your training code here - save your predictions in y_pred_ros\n",
        "# ...\n",
        "y_pred_ros = ...\n",
        "\n",
        "# Evaluate your model, save f1_ros, acc_ros for later comparisons\n",
        "f1_ros = ... # calculate macro"
      ]
    },
    {
      "cell_type": "markdown",
      "metadata": {
        "id": "y3fXkLQ2nCIZ"
      },
      "source": [
        "# 3. Train the Logistic Regression Model with the class balancing function\n",
        "\n",
        "Most methods nowadays have a parameter that can put a bigger weight/importance on minority classes, in order to give them equal importance to the more presents clases. This is a simple method and it only need to add the `class_output='balanced'` in the initialization of the `LogisticRegression` function.\n",
        "\n",
        "# Exercise 5\n",
        "\n",
        "### Tasks\n",
        "\n",
        "1. What is the number of samples for each class?\n",
        "3. Train a new logistic regression model - save predictions in `y_pred_bal`\n",
        "4. How long does training take?\n",
        "4. Evaluate the model with the new data."
      ]
    },
    {
      "cell_type": "code",
      "execution_count": null,
      "metadata": {
        "colab": {
          "base_uri": "https://localhost:8080/"
        },
        "id": "jE3zNzXlnBAi",
        "outputId": "a4983805-a384-4376-b21e-8d7be5f439c6"
      },
      "outputs": [
        {
          "name": "stdout",
          "output_type": "stream",
          "text": [
            "\n",
            "Logistic Regression Classification Report:\n",
            "               precision    recall  f1-score   support\n",
            "\n",
            "           0       0.97      0.85      0.91     11977\n",
            "           1       0.42      0.81      0.55      1587\n",
            "\n",
            "    accuracy                           0.85     13564\n",
            "   macro avg       0.69      0.83      0.73     13564\n",
            "weighted avg       0.91      0.85      0.87     13564\n",
            "\n",
            "Accuracy: 0.8464317310527868\n"
          ]
        }
      ],
      "source": [
        "# CODE HERE\n",
        "# Balanced Logistic Regression Model training\n",
        "clf_bal = LogisticRegression(max_iter=500, class_weight='balanced')\n",
        "...\n",
        "\n",
        "# Predict and evaluate, save your predictions in y_pred_bal\n",
        "y_pred_bal = ...\n",
        "\n",
        "# Evaluate your model here, save f1_bal, acc_bal\n",
        "..."
      ]
    },
    {
      "cell_type": "markdown",
      "metadata": {
        "id": "YmApjNEw7D5Q"
      },
      "source": [
        "# Data Imbalance Techniques comparison\n",
        "\n",
        "Let's plot some confusion matrices for each case, side-by-side. You have minimal *code filling* to do.\n",
        "\n",
        "# Exercise 6\n",
        "\n",
        "### Tasks\n",
        "\n",
        "1. What is the best method?\n",
        "2. Also print some info about each methods f1-score, acc, time taken, etc.\n",
        "\n",
        "### OPTIONAL\n",
        "3. Plot a graph containing the AUROC curve for all 4 cases (unbalanced, undersampling, oversampling, balanced). Make the curves of different colors, with an associated legend. Search what you need in order to plot such a curve, you can obtain auroc/precision/recall values easily with `sklearn.metrics`."
      ]
    },
    {
      "cell_type": "code",
      "execution_count": null,
      "metadata": {
        "id": "y1dQGaoPqxai"
      },
      "outputs": [],
      "source": [
        "# Prepare data - fill the necessary variables\n",
        "preds = {\n",
        "    'Original Logistic': ...,\n",
        "    'Balanced Class Weight': ...,\n",
        "    'Random Undersampling': ...,\n",
        "    'Random Oversampling': ...\n",
        "}\n",
        "\n",
        "# Create 1 row, 4 columns plot\n",
        "fig, axes = plt.subplots(1, 4, figsize=(20,5))\n",
        "\n",
        "for ax, (title, pred) in zip(axes, preds.items()):\n",
        "    cm = confusion_matrix(...) # FILL THE NECESSARY VARIABLES\n",
        "    sns.heatmap(cm, annot=True, fmt='d', cmap='Blues', xticklabels=['No', 'Yes'], yticklabels=['No', 'Yes'], ax=ax)\n",
        "    ax.set_title(title)\n",
        "    ax.set_xlabel('Predicted')\n",
        "    ax.set_ylabel('Actual')\n",
        "\n",
        "plt.tight_layout()\n",
        "plt.show()\n",
        "\n",
        "# CODE HERE\n",
        "# Print some more info about each methods performance, acc, f1-score, etc.\n",
        "..."
      ]
    },
    {
      "cell_type": "code",
      "execution_count": null,
      "metadata": {
        "id": "Gk7-8HWq8vKo"
      },
      "outputs": [],
      "source": [
        "# CODE HERE\n",
        "# PLOT A GRAPHIC CONTAINING ALL 4 AUROC CURVES\n",
        "..."
      ]
    }
  ],
  "metadata": {
    "colab": {
      "authorship_tag": "ABX9TyMbED1s2P/BCGcWrFTr3Lgx",
      "include_colab_link": true,
      "provenance": []
    },
    "kernelspec": {
      "display_name": "Python 3",
      "name": "python3"
    },
    "language_info": {
      "codemirror_mode": {
        "name": "ipython",
        "version": 3
      },
      "file_extension": ".py",
      "mimetype": "text/x-python",
      "name": "python",
      "nbconvert_exporter": "python",
      "pygments_lexer": "ipython3",
      "version": "3.13.7"
    }
  },
  "nbformat": 4,
  "nbformat_minor": 0
}
